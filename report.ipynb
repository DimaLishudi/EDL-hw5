{
 "cells": [
  {
   "cell_type": "code",
   "execution_count": null,
   "metadata": {},
   "outputs": [],
   "source": []
  },
  {
   "attachments": {},
   "cell_type": "markdown",
   "metadata": {},
   "source": [
    "Consider batch with a single feature. Let $x = \\in \\mathbb{R}^B$ be input batch, $\\hat{x} \\in \\mathbb{R}^B$ - output batch. Define:\n",
    "\\begin{gather*}\n",
    "    t_i = x_i - \\frac{1}{B}\\sum_{j=1}^B x_j\\\\\n",
    "    s = \\sqrt{\\sigma^2 + \\varepsilon}\n",
    "\\end{gather*}\n",
    "I.e.:\n",
    "\\begin{gather*}\n",
    "    \\hat{x}_i = t_i / s \\\\\n",
    "    \\sigma^2 = \\frac{1}{B}\\sum t_i\n",
    "\\end{gather*}\n",
    "Notice, that:\n",
    "$$\n",
    "    \\frac{d s}{d t_j} = \\frac{t_j}{Bs}\n",
    "$$\n",
    "Therefore:\n",
    "\\begin{align*}\n",
    "    \\frac{d\\hat{x_i}}{d t_j}\n",
    "    &= \\frac{\\delta_{ij}}{s} - \\frac{t_i}{s^2} \\frac{d s}{d t_j} =\\\\\n",
    "    &= \\frac{\\delta_{ij}}{s} - \\frac{t_i t_j}{Bs^3}\n",
    "\\end{align*}\n",
    "So, respective Jacobian matrix equals:\n",
    "$$\n",
    "    J_{t, \\hat{x}} = \\frac{1}{s}I_B - \\frac{1}{Bs^3}t t^T\n",
    "$$\n",
    "Similarly for $t \\to x$:\n",
    "$$\n",
    "    \\frac{d t_i}{d x_j} = \\delta_{ij} - \\frac{1}{B}\n",
    "$$\n",
    "$$\n",
    "    J_{x, t} = I_B - \\frac{1}{B} 1_B 1_B^T\n",
    "$$\n",
    "Thanks to simple form of Jacobian matrices, we can use just operations of O(B) complexity while calculating input gradient:\n",
    "$$\n",
    "    \\frac{dL}{dx} = J_{x, t}J_{t, \\hat{x} }\\frac{dL}{d\\hat{x}}\n",
    "$$\n",
    "Multiplication by $1_B^T$ is sum along batch dimension. Multiplication by $1_B^T$ is broadcasting along batch dimension. Multiplication $t^T v$ is coordinate-wise multiplication plus sum along batch dimension. Therefore with naive algorithm we would need to synchronize batches twice.\n",
    "\n",
    "However if we denote $g := \\frac{dL}{d\\hat{x}}$ and elaborate on the final formula, we get:\n",
    "\\begin{align*}\n",
    "    \\frac{dL}{dx} &= \\Big(I_B - \\frac{1}{B} 1_B 1_B^T\\Big)\\Big(g/s - \\frac{1}{Bs^3}t t^T g\\Big)\\\\\n",
    "    &= g/s - \\frac{1}{Bs^3}t t^T g - \\frac{1}{Bs} 1_B 1_B^Tg + \\frac{1}{B^2s^3}1_B 1_B^T t t^T g\\\\\n",
    "\\end{align*}\n",
    "Therefore, we need to calculate only three sums over **B**atch dimension: $t * g$, $1 * g$, $1 * t$. All three sums can be calculated with just 1 synchronize.\n",
    "\n",
    "Notice, that for multi-feature inputs result can be simply broadcasted on feature dimension."
   ]
  },
  {
   "cell_type": "markdown",
   "metadata": {},
   "source": []
  }
 ],
 "metadata": {
  "kernelspec": {
   "display_name": "Python 3",
   "language": "python",
   "name": "python3"
  },
  "language_info": {
   "name": "python",
   "version": "3.10.6"
  },
  "orig_nbformat": 4,
  "vscode": {
   "interpreter": {
    "hash": "916dbcbb3f70747c44a77c7bcd40155683ae19c65e1c03b4aa3499c5328201f1"
   }
  }
 },
 "nbformat": 4,
 "nbformat_minor": 2
}
